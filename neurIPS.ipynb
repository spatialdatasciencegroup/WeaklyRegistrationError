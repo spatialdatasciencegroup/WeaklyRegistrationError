{
 "metadata": {
  "language_info": {
   "codemirror_mode": {
    "name": "ipython",
    "version": 3
   },
   "file_extension": ".py",
   "mimetype": "text/x-python",
   "name": "python",
   "nbconvert_exporter": "python",
   "pygments_lexer": "ipython3",
   "version": "3.8.5"
  },
  "orig_nbformat": 2,
  "kernelspec": {
   "name": "python385jvsc74a57bd0a4a3d536b7b22b3773302e0b3e65d4f2bc0c3b87f66e6f218deb25e1ca526474",
   "display_name": "Python 3.8.5 64-bit ('p38': virtualenvwrapper)"
  }
 },
 "nbformat": 4,
 "nbformat_minor": 2,
 "cells": [
  {
   "source": [
    "# Testing for New NeurIPS Components\n"
   ],
   "cell_type": "markdown",
   "metadata": {}
  },
  {
   "source": [
    "## Radial-Basis Function\n",
    "\n",
    "Can use Scikit-Learn's [Built-In Function](https://scikit-learn.org/stable/modules/generated/sklearn.gaussian_process.kernels.RBF.html#sklearn-gaussian-process-kernels-rbf)\n",
    "\n",
    "### Parameters:\n",
    "\n",
    "**`length_scale`** : *float or ndarray of shape (n_features,), default=1.0*\n",
    "The length scale of the kernel. If a float, an isotropic kernel is used. If an array, an anisotropic kernel is used where each dimension of l defines the length-scale of the respective feature dimension.\n",
    "\n",
    "**`length_scale_bounds`** : *pair of floats >= 0 or “fixed”, default=(1e-5, 1e5)*\n",
    "\n",
    "The lower and upper bound on ‘length_scale’. If set to “fixed”, ‘length_scale’ cannot be changed during hyperparameter tuning."
   ],
   "cell_type": "markdown",
   "metadata": {}
  },
  {
   "cell_type": "code",
   "execution_count": 3,
   "metadata": {},
   "outputs": [
    {
     "output_type": "error",
     "ename": "SyntaxError",
     "evalue": "positional argument follows keyword argument (<ipython-input-3-f028cce06070>, line 4)",
     "traceback": [
      "\u001b[0;36m  File \u001b[0;32m\"<ipython-input-3-f028cce06070>\"\u001b[0;36m, line \u001b[0;32m4\u001b[0m\n\u001b[0;31m    rbf_a = RBF(length_scale=1.0, length_scale_bounds=1e-05, 1e06)\u001b[0m\n\u001b[0m                                                             ^\u001b[0m\n\u001b[0;31mSyntaxError\u001b[0m\u001b[0;31m:\u001b[0m positional argument follows keyword argument\n"
     ]
    }
   ],
   "source": [
    "# Scikit-Learn \n",
    "from sklearn.gaussian_process.kernels import RBF\n",
    "\n",
    "# length_scale: Float\n",
    "# length_scale_bounds: sets bounds for kernel func []\n",
    "rbf_kernel = 1.0 * RBF(length_scale=1.0) "
   ]
  },
  {
   "source": [
    "## Custom Radial-Basis\n",
    "\n",
    "\n",
    "[From Stack Exchange](https://stats.stackexchange.com/questions/239008/rbf-kernel-algorithm-python)"
   ],
   "cell_type": "markdown",
   "metadata": {}
  },
  {
   "cell_type": "code",
   "execution_count": null,
   "metadata": {},
   "outputs": [],
   "source": [
    "\n",
    "import numpy as np\n",
    "def compute_RBF(mat1, mat2, sigma):\n",
    "\n",
    "    trnorms1 = np.mat([(v * v.T)[0, 0] for v in mat1]).T\n",
    "    trnorms2 = np.mat([(v * v.T)[0, 0] for v in mat2]).T\n",
    "\n",
    "    k1 = trnorms1 * np.mat(np.ones((mat2.shape[0], 1), dtype=np.float64)).T\n",
    "\n",
    "    k2 = np.mat(np.ones((mat1.shape[0], 1), dtype=np.float64)) * trnorms2.T\n",
    "\n",
    "    k = k1 + k2\n",
    "\n",
    "    k -= 2 * np.mat(mat1 * mat2.T)\n",
    "\n",
    "    k *= - 1./(2 * np.power(sigma, 2))\n",
    "\n",
    "    return np.exp(k)"
   ]
  }
 ]
}