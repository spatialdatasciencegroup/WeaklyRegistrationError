{
 "cells": [
  {
   "cell_type": "code",
   "execution_count": 6,
   "metadata": {},
   "outputs": [],
   "source": [
    "# Second Scene Prep for second dataset\n",
    "import rasterio as rio\n",
    "import geopandas as gpd\n",
    "\n",
    "imperfect_lines = gpd.read_file('/data/GeometricErrors/Scene02/small_crop/shapes/imperfect_lines_smaller_dataset.shp')\n",
    "\n",
    "\n",
    "train_raster = rio.open('/data/GeometricErrors/Scene02/small_crop/train_raster.tif')"
   ]
  },
  {
   "cell_type": "code",
   "execution_count": 11,
   "metadata": {},
   "outputs": [
    {
     "name": "stdout",
     "output_type": "stream",
     "text": [
      "YES\n"
     ]
    }
   ],
   "source": [
    "import shapely.geometry as shp\n",
    "\n",
    "(mx,my,Mx,My) = train_raster.bounds\n",
    "boundingPoly = shp.box(mx,my,Mx,My)\n",
    "\n",
    "for line in imperfect_lines.geometry:\n",
    "    if boundingPoly.contains(line):\n",
    "        print(\"YES\")\n",
    "    else:\n",
    "        print(\"NO\")"
   ]
  },
  {
   "cell_type": "code",
   "execution_count": 3,
   "metadata": {},
   "outputs": [],
   "source": [
    "from lib.internal import _raster\n",
    "naip = _raster('/data/GeometricErrors/Raw/Set01/crop_1m.tif')"
   ]
  },
  {
   "cell_type": "code",
   "execution_count": 4,
   "metadata": {},
   "outputs": [
    {
     "name": "stdout",
     "output_type": "stream",
     "text": [
      "-1.7e+308\n"
     ]
    }
   ],
   "source": [
    "print(naip.nodata)"
   ]
  },
  {
   "cell_type": "code",
   "execution_count": null,
   "metadata": {},
   "outputs": [],
   "source": []
  }
 ],
 "metadata": {
  "kernelspec": {
   "display_name": "geo_errors",
   "language": "python",
   "name": "geo_errors"
  },
  "language_info": {
   "codemirror_mode": {
    "name": "ipython",
    "version": 3
   },
   "file_extension": ".py",
   "mimetype": "text/x-python",
   "name": "python",
   "nbconvert_exporter": "python",
   "pygments_lexer": "ipython3",
   "version": "3.7.5"
  }
 },
 "nbformat": 4,
 "nbformat_minor": 4
}
